{
  "nbformat": 4,
  "nbformat_minor": 0,
  "metadata": {
    "colab": {
      "name": "tensorflow2_resnet.ipynb",
      "version": "0.3.2",
      "provenance": [],
      "include_colab_link": true
    },
    "kernelspec": {
      "name": "python3",
      "display_name": "Python 3"
    },
    "accelerator": "GPU"
  },
  "cells": [
    {
      "cell_type": "markdown",
      "metadata": {
        "id": "view-in-github",
        "colab_type": "text"
      },
      "source": [
        "<a href=\"https://colab.research.google.com/github/adventuresinML/adventures-in-ml-code/blob/master/tensorflow2_resnet.ipynb\" target=\"_parent\"><img src=\"https://colab.research.google.com/assets/colab-badge.svg\" alt=\"Open In Colab\"/></a>"
      ]
    },
    {
      "cell_type": "code",
      "metadata": {
        "id": "WVD_mwZk9I3W",
        "colab_type": "code",
        "outputId": "2fa56db5-f54e-4fcd-dc0a-67e4a9728f65",
        "colab": {
          "base_uri": "https://localhost:8080/",
          "height": 238
        }
      },
      "source": [
        "!wget https://bin.equinox.io/c/4VmDzA7iaHb/ngrok-stable-linux-amd64.zip\n",
        "!unzip ngrok-stable-linux-amd64.zip"
      ],
      "execution_count": 1,
      "outputs": [
        {
          "output_type": "stream",
          "text": [
            "--2019-08-30 23:16:28--  https://bin.equinox.io/c/4VmDzA7iaHb/ngrok-stable-linux-amd64.zip\n",
            "Resolving bin.equinox.io (bin.equinox.io)... 3.219.64.173, 54.236.200.27, 52.3.53.115, ...\n",
            "Connecting to bin.equinox.io (bin.equinox.io)|3.219.64.173|:443... connected.\n",
            "HTTP request sent, awaiting response... 200 OK\n",
            "Length: 13607069 (13M) [application/octet-stream]\n",
            "Saving to: ‘ngrok-stable-linux-amd64.zip’\n",
            "\n",
            "ngrok-stable-linux- 100%[===================>]  12.98M  7.82MB/s    in 1.7s    \n",
            "\n",
            "2019-08-30 23:16:30 (7.82 MB/s) - ‘ngrok-stable-linux-amd64.zip’ saved [13607069/13607069]\n",
            "\n",
            "Archive:  ngrok-stable-linux-amd64.zip\n",
            "  inflating: ngrok                   \n"
          ],
          "name": "stdout"
        }
      ]
    },
    {
      "cell_type": "code",
      "metadata": {
        "id": "guceA3gF9PRa",
        "colab_type": "code",
        "outputId": "54783699-5488-45b8-8e96-3bf4558183c8",
        "colab": {
          "base_uri": "https://localhost:8080/",
          "height": 581
        }
      },
      "source": [
        "pip install tensorflow==2.0.0-rc0 "
      ],
      "execution_count": 2,
      "outputs": [
        {
          "output_type": "stream",
          "text": [
            "Collecting tensorflow==2.0.0-rc0\n",
            "\u001b[?25l  Downloading https://files.pythonhosted.org/packages/fb/4b/77f0965ec7e8a76d3dcd6a22ca8bbd2b934cd92c4ded43fef6bea5ff3258/tensorflow-2.0.0rc0-cp36-cp36m-manylinux2010_x86_64.whl (86.3MB)\n",
            "\u001b[K     |████████████████████████████████| 86.3MB 1.8MB/s \n",
            "\u001b[?25hRequirement already satisfied: gast>=0.2.0 in /usr/local/lib/python3.6/dist-packages (from tensorflow==2.0.0-rc0) (0.2.2)\n",
            "Requirement already satisfied: six>=1.10.0 in /usr/local/lib/python3.6/dist-packages (from tensorflow==2.0.0-rc0) (1.12.0)\n",
            "Requirement already satisfied: termcolor>=1.1.0 in /usr/local/lib/python3.6/dist-packages (from tensorflow==2.0.0-rc0) (1.1.0)\n",
            "Requirement already satisfied: opt-einsum>=2.3.2 in /usr/local/lib/python3.6/dist-packages (from tensorflow==2.0.0-rc0) (3.0.1)\n",
            "Requirement already satisfied: absl-py>=0.7.0 in /usr/local/lib/python3.6/dist-packages (from tensorflow==2.0.0-rc0) (0.7.1)\n",
            "Requirement already satisfied: wrapt>=1.11.1 in /usr/local/lib/python3.6/dist-packages (from tensorflow==2.0.0-rc0) (1.11.2)\n",
            "Requirement already satisfied: keras-preprocessing>=1.0.5 in /usr/local/lib/python3.6/dist-packages (from tensorflow==2.0.0-rc0) (1.1.0)\n",
            "Collecting tb-nightly<1.15.0a20190807,>=1.15.0a20190806 (from tensorflow==2.0.0-rc0)\n",
            "\u001b[?25l  Downloading https://files.pythonhosted.org/packages/bc/88/24b5fb7280e74c7cf65bde47c171547fd02afb3840cff41bcbe9270650f5/tb_nightly-1.15.0a20190806-py3-none-any.whl (4.3MB)\n",
            "\u001b[K     |████████████████████████████████| 4.3MB 49.7MB/s \n",
            "\u001b[?25hRequirement already satisfied: protobuf>=3.6.1 in /usr/local/lib/python3.6/dist-packages (from tensorflow==2.0.0-rc0) (3.7.1)\n",
            "Collecting tf-estimator-nightly<1.14.0.dev2019080602,>=1.14.0.dev2019080601 (from tensorflow==2.0.0-rc0)\n",
            "\u001b[?25l  Downloading https://files.pythonhosted.org/packages/21/28/f2a27a62943d5f041e4a6fd404b2d21cb7c59b2242a4e73b03d9ba166552/tf_estimator_nightly-1.14.0.dev2019080601-py2.py3-none-any.whl (501kB)\n",
            "\u001b[K     |████████████████████████████████| 501kB 39.7MB/s \n",
            "\u001b[?25hRequirement already satisfied: google-pasta>=0.1.6 in /usr/local/lib/python3.6/dist-packages (from tensorflow==2.0.0-rc0) (0.1.7)\n",
            "Requirement already satisfied: numpy<2.0,>=1.16.0 in /usr/local/lib/python3.6/dist-packages (from tensorflow==2.0.0-rc0) (1.16.4)\n",
            "Requirement already satisfied: wheel>=0.26 in /usr/local/lib/python3.6/dist-packages (from tensorflow==2.0.0-rc0) (0.33.6)\n",
            "Requirement already satisfied: keras-applications>=1.0.8 in /usr/local/lib/python3.6/dist-packages (from tensorflow==2.0.0-rc0) (1.0.8)\n",
            "Requirement already satisfied: astor>=0.6.0 in /usr/local/lib/python3.6/dist-packages (from tensorflow==2.0.0-rc0) (0.8.0)\n",
            "Requirement already satisfied: grpcio>=1.8.6 in /usr/local/lib/python3.6/dist-packages (from tensorflow==2.0.0-rc0) (1.15.0)\n",
            "Requirement already satisfied: markdown>=2.6.8 in /usr/local/lib/python3.6/dist-packages (from tb-nightly<1.15.0a20190807,>=1.15.0a20190806->tensorflow==2.0.0-rc0) (3.1.1)\n",
            "Requirement already satisfied: setuptools>=41.0.0 in /usr/local/lib/python3.6/dist-packages (from tb-nightly<1.15.0a20190807,>=1.15.0a20190806->tensorflow==2.0.0-rc0) (41.2.0)\n",
            "Requirement already satisfied: werkzeug>=0.11.15 in /usr/local/lib/python3.6/dist-packages (from tb-nightly<1.15.0a20190807,>=1.15.0a20190806->tensorflow==2.0.0-rc0) (0.15.5)\n",
            "Requirement already satisfied: h5py in /usr/local/lib/python3.6/dist-packages (from keras-applications>=1.0.8->tensorflow==2.0.0-rc0) (2.8.0)\n",
            "Installing collected packages: tb-nightly, tf-estimator-nightly, tensorflow\n",
            "  Found existing installation: tensorflow 1.14.0\n",
            "    Uninstalling tensorflow-1.14.0:\n",
            "      Successfully uninstalled tensorflow-1.14.0\n",
            "Successfully installed tb-nightly-1.15.0a20190806 tensorflow-2.0.0rc0 tf-estimator-nightly-1.14.0.dev2019080601\n"
          ],
          "name": "stdout"
        }
      ]
    },
    {
      "cell_type": "code",
      "metadata": {
        "id": "FJDZGKfH85Oj",
        "colab_type": "code",
        "colab": {}
      },
      "source": [
        "import tensorflow as tf\n",
        "from tensorflow import keras\n",
        "from tensorflow.keras import layers\n",
        "import numpy as np\n",
        "import datetime as dt"
      ],
      "execution_count": 0,
      "outputs": []
    },
    {
      "cell_type": "code",
      "metadata": {
        "id": "-80HGzYCf3G_",
        "colab_type": "code",
        "colab": {}
      },
      "source": [
        "LOG_DIR = './log'\n",
        "get_ipython().system_raw(\n",
        "    'tensorboard --logdir {} --host 0.0.0.0 --port 6006 &'\n",
        "    .format(LOG_DIR)\n",
        ")"
      ],
      "execution_count": 0,
      "outputs": []
    },
    {
      "cell_type": "code",
      "metadata": {
        "id": "1JYx4jqW9bJP",
        "colab_type": "code",
        "colab": {
          "base_uri": "https://localhost:8080/",
          "height": 51
        },
        "outputId": "4926ce14-0cea-4b12-9e63-c1041f2bc108"
      },
      "source": [
        "(x_train, y_train), (x_test, y_test) = tf.keras.datasets.cifar10.load_data()"
      ],
      "execution_count": 5,
      "outputs": [
        {
          "output_type": "stream",
          "text": [
            "Downloading data from https://www.cs.toronto.edu/~kriz/cifar-10-python.tar.gz\n",
            "170500096/170498071 [==============================] - 9s 0us/step\n"
          ],
          "name": "stdout"
        }
      ]
    },
    {
      "cell_type": "code",
      "metadata": {
        "id": "3bkLiXtB9ggh",
        "colab_type": "code",
        "colab": {}
      },
      "source": [
        "train_dataset = tf.data.Dataset.from_tensor_slices((x_train, y_train)).batch(64).shuffle(10000)\n",
        "train_dataset = train_dataset.map(lambda x, y: (tf.cast(x, tf.float32) / 255.0, y))\n",
        "train_dataset = train_dataset.map(lambda x, y: (tf.image.central_crop(x, 0.75), y))\n",
        "train_dataset = train_dataset.map(lambda x, y: (tf.image.random_flip_left_right(x), y))\n",
        "train_dataset = train_dataset.repeat()"
      ],
      "execution_count": 0,
      "outputs": []
    },
    {
      "cell_type": "code",
      "metadata": {
        "id": "2omQioHn91gU",
        "colab_type": "code",
        "colab": {}
      },
      "source": [
        "valid_dataset = tf.data.Dataset.from_tensor_slices((x_test, y_test)).batch(5000).shuffle(10000)\n",
        "valid_dataset = valid_dataset.map(lambda x, y: (tf.cast(x, tf.float32) / 255.0, y))\n",
        "valid_dataset = valid_dataset.map(lambda x, y: (tf.image.central_crop(x, 0.75), y))\n",
        "valid_dataset = valid_dataset.repeat()"
      ],
      "execution_count": 0,
      "outputs": []
    },
    {
      "cell_type": "code",
      "metadata": {
        "id": "yBN2I7QuU8K4",
        "colab_type": "code",
        "colab": {}
      },
      "source": [
        "def res_net_block(input_data, filters, conv_size):\n",
        "  x = layers.Conv2D(filters, conv_size, activation='relu', padding='same')(input_data)\n",
        "  x = layers.BatchNormalization()(x)\n",
        "  x = layers.Conv2D(filters, conv_size, activation=None, padding='same')(x)\n",
        "  x = layers.BatchNormalization()(x)\n",
        "  x = layers.Add()([x, input_data])\n",
        "  x = layers.Activation('relu')(x)\n",
        "  return x"
      ],
      "execution_count": 0,
      "outputs": []
    },
    {
      "cell_type": "code",
      "metadata": {
        "id": "meSktJWGdGm0",
        "colab_type": "code",
        "colab": {}
      },
      "source": [
        "def non_res_block(input_data, filters, conv_size):\n",
        "  x = layers.Conv2D(filters, conv_size, activation='relu', padding='same')(input_data)\n",
        "  x = layers.BatchNormalization()(x)\n",
        "  x = layers.Conv2D(filters, conv_size, activation='relu', padding='same')(x)\n",
        "  x = layers.BatchNormalization()(x)\n",
        "  return x"
      ],
      "execution_count": 0,
      "outputs": []
    },
    {
      "cell_type": "code",
      "metadata": {
        "id": "cCTuk6mDfELX",
        "colab_type": "code",
        "colab": {}
      },
      "source": [
        "callbacks = [\n",
        "  # Write TensorBoard logs to `./logs` directory\n",
        "  keras.callbacks.TensorBoard(log_dir='./log/{}'.format(dt.datetime.now().strftime(\"%Y-%m-%d-%H-%M-%S\")), write_images=True),\n",
        "]"
      ],
      "execution_count": 0,
      "outputs": []
    },
    {
      "cell_type": "code",
      "metadata": {
        "id": "JjdQG_gQRwS-",
        "colab_type": "code",
        "colab": {}
      },
      "source": [
        "inputs = keras.Input(shape=(24, 24, 3))\n",
        "x = layers.Conv2D(32, 3, activation='relu')(inputs)\n",
        "x = layers.Conv2D(64, 3, activation='relu')(x)\n",
        "x = layers.MaxPooling2D(3)(x)\n",
        "\n",
        "num_res_net_blocks = 10\n",
        "for i in range(num_res_net_blocks):\n",
        "  x = res_net_block(x, 64, 3)\n",
        "\n",
        "x = layers.Conv2D(64, 3, activation='relu')(x)\n",
        "x = layers.GlobalAveragePooling2D()(x)\n",
        "x = layers.Dense(256, activation='relu')(x)\n",
        "x = layers.Dropout(0.5)(x)\n",
        "outputs = layers.Dense(10, activation='softmax')(x)\n",
        "\n",
        "res_net_model = keras.Model(inputs, outputs)"
      ],
      "execution_count": 0,
      "outputs": []
    },
    {
      "cell_type": "code",
      "metadata": {
        "id": "D56mOPA0_5ZV",
        "colab_type": "code",
        "colab": {
          "base_uri": "https://localhost:8080/",
          "height": 1000
        },
        "outputId": "47bf4bf5-17a1-4615-f5ef-5aa59bf42505"
      },
      "source": [
        "res_net_model.compile(optimizer=keras.optimizers.Adam(),\n",
        "              loss='sparse_categorical_crossentropy',\n",
        "              metrics=['acc'])\n",
        "res_net_model.fit(train_dataset, epochs=30, steps_per_epoch=195,\n",
        "          validation_data=valid_dataset,\n",
        "          validation_steps=3, callbacks=callbacks)"
      ],
      "execution_count": 15,
      "outputs": [
        {
          "output_type": "stream",
          "text": [
            "Train for 195 steps, validate for 3 steps\n",
            "Epoch 1/30\n",
            "195/195 [==============================] - 130s 666ms/step - loss: 2.0080 - acc: 0.2435 - val_loss: 3.1419 - val_acc: 0.1013\n",
            "Epoch 2/30\n",
            "195/195 [==============================] - 121s 621ms/step - loss: 1.6773 - acc: 0.3755 - val_loss: 2.3122 - val_acc: 0.2559\n",
            "Epoch 3/30\n",
            "195/195 [==============================] - 118s 607ms/step - loss: 1.5196 - acc: 0.4514 - val_loss: 1.7138 - val_acc: 0.4188\n",
            "Epoch 4/30\n",
            "195/195 [==============================] - 116s 596ms/step - loss: 1.4256 - acc: 0.4935 - val_loss: 1.4128 - val_acc: 0.4981\n",
            "Epoch 5/30\n",
            "195/195 [==============================] - 128s 658ms/step - loss: 1.3205 - acc: 0.5339 - val_loss: 1.7460 - val_acc: 0.4450\n",
            "Epoch 6/30\n",
            "195/195 [==============================] - 127s 652ms/step - loss: 1.2776 - acc: 0.5544 - val_loss: 2.1041 - val_acc: 0.3701\n",
            "Epoch 7/30\n",
            "195/195 [==============================] - 128s 655ms/step - loss: 1.2386 - acc: 0.5651 - val_loss: 1.5180 - val_acc: 0.4831\n",
            "Epoch 8/30\n",
            "195/195 [==============================] - 127s 649ms/step - loss: 1.1782 - acc: 0.5923 - val_loss: 1.1953 - val_acc: 0.5807\n",
            "Epoch 9/30\n",
            "195/195 [==============================] - 138s 709ms/step - loss: 1.1260 - acc: 0.6058 - val_loss: 1.2560 - val_acc: 0.5703\n",
            "Epoch 10/30\n",
            "195/195 [==============================] - 131s 670ms/step - loss: 1.1016 - acc: 0.6156 - val_loss: 1.1764 - val_acc: 0.5831\n",
            "Epoch 11/30\n",
            "195/195 [==============================] - 114s 583ms/step - loss: 1.0849 - acc: 0.6236 - val_loss: 1.3841 - val_acc: 0.5195\n",
            "Epoch 12/30\n",
            "195/195 [==============================] - 126s 646ms/step - loss: 1.0585 - acc: 0.6328 - val_loss: 1.3421 - val_acc: 0.5603\n",
            "Epoch 13/30\n",
            "195/195 [==============================] - 137s 705ms/step - loss: 1.0276 - acc: 0.6423 - val_loss: 1.1864 - val_acc: 0.5800\n",
            "Epoch 14/30\n",
            "195/195 [==============================] - 130s 665ms/step - loss: 0.9950 - acc: 0.6550 - val_loss: 1.2025 - val_acc: 0.5973\n",
            "Epoch 15/30\n",
            "195/195 [==============================] - 132s 678ms/step - loss: 0.9695 - acc: 0.6640 - val_loss: 1.0556 - val_acc: 0.6361\n",
            "Epoch 16/30\n",
            "195/195 [==============================] - 118s 604ms/step - loss: 0.9579 - acc: 0.6685 - val_loss: 1.0208 - val_acc: 0.6508\n",
            "Epoch 17/30\n",
            "195/195 [==============================] - 146s 748ms/step - loss: 0.9261 - acc: 0.6800 - val_loss: 1.4761 - val_acc: 0.5818\n",
            "Epoch 18/30\n",
            "195/195 [==============================] - 133s 682ms/step - loss: 0.9018 - acc: 0.6912 - val_loss: 1.2812 - val_acc: 0.5831\n",
            "Epoch 19/30\n",
            "195/195 [==============================] - 114s 585ms/step - loss: 0.8915 - acc: 0.6918 - val_loss: 1.1647 - val_acc: 0.6234\n",
            "Epoch 20/30\n",
            "195/195 [==============================] - 118s 603ms/step - loss: 0.8942 - acc: 0.6929 - val_loss: 0.9486 - val_acc: 0.6777\n",
            "Epoch 21/30\n",
            "195/195 [==============================] - 136s 697ms/step - loss: 0.8615 - acc: 0.7087 - val_loss: 1.1385 - val_acc: 0.6162\n",
            "Epoch 22/30\n",
            "195/195 [==============================] - 130s 667ms/step - loss: 0.8453 - acc: 0.7085 - val_loss: 0.9838 - val_acc: 0.6722\n",
            "Epoch 23/30\n",
            "195/195 [==============================] - 131s 670ms/step - loss: 0.8434 - acc: 0.7139 - val_loss: 1.3259 - val_acc: 0.5946\n",
            "Epoch 24/30\n",
            "195/195 [==============================] - 129s 660ms/step - loss: 0.8406 - acc: 0.7128 - val_loss: 0.9485 - val_acc: 0.6783\n",
            "Epoch 25/30\n",
            "195/195 [==============================] - 123s 632ms/step - loss: 0.7968 - acc: 0.7284 - val_loss: 1.0956 - val_acc: 0.6201\n",
            "Epoch 26/30\n",
            "195/195 [==============================] - 125s 642ms/step - loss: 0.8035 - acc: 0.7280 - val_loss: 0.8875 - val_acc: 0.6981\n",
            "Epoch 27/30\n",
            "195/195 [==============================] - 132s 677ms/step - loss: 0.7919 - acc: 0.7296 - val_loss: 1.0069 - val_acc: 0.6629\n",
            "Epoch 28/30\n",
            "195/195 [==============================] - 126s 648ms/step - loss: 0.7768 - acc: 0.7367 - val_loss: 1.0706 - val_acc: 0.6542\n",
            "Epoch 29/30\n",
            "195/195 [==============================] - 136s 698ms/step - loss: 0.7504 - acc: 0.7393 - val_loss: 1.1646 - val_acc: 0.6207\n",
            "Epoch 30/30\n",
            "195/195 [==============================] - 130s 668ms/step - loss: 0.7490 - acc: 0.7446 - val_loss: 1.0650 - val_acc: 0.6445\n"
          ],
          "name": "stdout"
        },
        {
          "output_type": "execute_result",
          "data": {
            "text/plain": [
              "<tensorflow.python.keras.callbacks.History at 0x7ff9e5ca5160>"
            ]
          },
          "metadata": {
            "tags": []
          },
          "execution_count": 15
        }
      ]
    },
    {
      "cell_type": "code",
      "metadata": {
        "id": "pp0xKPpdYGV_",
        "colab_type": "code",
        "colab": {
          "base_uri": "https://localhost:8080/",
          "height": 122
        },
        "outputId": "99612626-e9ce-45a7-d34d-4f7287380fe2"
      },
      "source": [
        "from google.colab import drive\n",
        "drive.mount('/content/drive')"
      ],
      "execution_count": 16,
      "outputs": [
        {
          "output_type": "stream",
          "text": [
            "Go to this URL in a browser: https://accounts.google.com/o/oauth2/auth?client_id=947318989803-6bn6qk8qdgf4n4g3pfee6491hc0brc4i.apps.googleusercontent.com&redirect_uri=urn%3Aietf%3Awg%3Aoauth%3A2.0%3Aoob&scope=email%20https%3A%2F%2Fwww.googleapis.com%2Fauth%2Fdocs.test%20https%3A%2F%2Fwww.googleapis.com%2Fauth%2Fdrive%20https%3A%2F%2Fwww.googleapis.com%2Fauth%2Fdrive.photos.readonly%20https%3A%2F%2Fwww.googleapis.com%2Fauth%2Fpeopleapi.readonly&response_type=code\n",
            "\n",
            "Enter your authorization code:\n",
            "··········\n",
            "Mounted at /content/drive\n"
          ],
          "name": "stdout"
        }
      ]
    },
    {
      "cell_type": "code",
      "metadata": {
        "id": "j4p08oCFYoMx",
        "colab_type": "code",
        "colab": {}
      },
      "source": [
        "!cp -a \"/content/log/2019-08-30-23-17-40/.\" \"/content/drive/My Drive/resnet_tensorboard/res_net/\""
      ],
      "execution_count": 0,
      "outputs": []
    },
    {
      "cell_type": "code",
      "metadata": {
        "id": "o8v8iNn7_D6y",
        "colab_type": "code",
        "colab": {}
      },
      "source": [
        "inputs = keras.Input(shape=(24, 24, 3))\n",
        "x = layers.Conv2D(32, 3, activation='relu')(inputs)\n",
        "x = layers.Conv2D(64, 3, activation='relu')(x)\n",
        "x = layers.MaxPooling2D(3)(x)\n",
        "\n",
        "num_res_net_blocks = 10\n",
        "for i in range(num_res_net_blocks):\n",
        "  x = non_res_block(x, 64, 3)\n",
        "\n",
        "x = layers.Conv2D(64, 3, activation='relu')(x)\n",
        "x = layers.GlobalAveragePooling2D()(x)\n",
        "x = layers.Dense(256, activation='relu')(x)\n",
        "x = layers.Dropout(0.5)(x)\n",
        "outputs = layers.Dense(10, activation='softmax')(x)\n",
        "\n",
        "non_res_model = keras.Model(inputs, outputs)"
      ],
      "execution_count": 0,
      "outputs": []
    },
    {
      "cell_type": "code",
      "metadata": {
        "id": "5-IrRo9v2lED",
        "colab_type": "code",
        "colab": {}
      },
      "source": [
        "callbacks = [\n",
        "  # Write TensorBoard logs to `./logs` directory\n",
        "  keras.callbacks.TensorBoard(log_dir='./log/{}'.format(dt.datetime.now().strftime(\"%Y-%m-%d-%H-%M-%S\")), write_images=True),\n",
        "]"
      ],
      "execution_count": 0,
      "outputs": []
    },
    {
      "cell_type": "code",
      "metadata": {
        "id": "ql1Hzwsd_Iio",
        "colab_type": "code",
        "colab": {
          "base_uri": "https://localhost:8080/",
          "height": 1000
        },
        "outputId": "598a8b9e-0733-4a9e-c0ae-1c4d2fca9216"
      },
      "source": [
        "non_res_model.compile(optimizer=keras.optimizers.Adam(),\n",
        "              loss='sparse_categorical_crossentropy',\n",
        "              metrics=['acc'])\n",
        "non_res_model.fit(train_dataset, epochs=30, steps_per_epoch=195,\n",
        "          validation_data=valid_dataset,\n",
        "          validation_steps=3, callbacks=callbacks)"
      ],
      "execution_count": 36,
      "outputs": [
        {
          "output_type": "stream",
          "text": [
            "Train for 195 steps, validate for 3 steps\n",
            "Epoch 1/30\n",
            "195/195 [==============================] - 138s 706ms/step - loss: 2.1103 - acc: 0.1944 - val_loss: 2.3356 - val_acc: 0.1047\n",
            "Epoch 2/30\n",
            "195/195 [==============================] - 133s 681ms/step - loss: 1.8383 - acc: 0.2960 - val_loss: 3.0255 - val_acc: 0.1093\n",
            "Epoch 3/30\n",
            "195/195 [==============================] - 129s 661ms/step - loss: 1.7083 - acc: 0.3620 - val_loss: 2.1608 - val_acc: 0.2831\n",
            "Epoch 4/30\n",
            "195/195 [==============================] - 131s 673ms/step - loss: 1.6246 - acc: 0.3976 - val_loss: 2.6257 - val_acc: 0.2668\n",
            "Epoch 5/30\n",
            "195/195 [==============================] - 146s 750ms/step - loss: 1.5396 - acc: 0.4387 - val_loss: 2.6990 - val_acc: 0.2815\n",
            "Epoch 6/30\n",
            "195/195 [==============================] - 142s 730ms/step - loss: 1.5113 - acc: 0.4541 - val_loss: 1.8950 - val_acc: 0.4145\n",
            "Epoch 7/30\n",
            "195/195 [==============================] - 140s 719ms/step - loss: 1.4369 - acc: 0.4944 - val_loss: 1.7538 - val_acc: 0.4395\n",
            "Epoch 8/30\n",
            "195/195 [==============================] - 122s 627ms/step - loss: 1.4048 - acc: 0.5029 - val_loss: 1.6099 - val_acc: 0.4695\n",
            "Epoch 9/30\n",
            "195/195 [==============================] - 152s 780ms/step - loss: 1.3695 - acc: 0.5215 - val_loss: 1.8302 - val_acc: 0.4435\n",
            "Epoch 10/30\n",
            "195/195 [==============================] - 142s 730ms/step - loss: 1.3023 - acc: 0.5440 - val_loss: 2.0970 - val_acc: 0.4088\n",
            "Epoch 11/30\n",
            "195/195 [==============================] - 138s 707ms/step - loss: 1.2664 - acc: 0.5647 - val_loss: 1.5262 - val_acc: 0.5229\n",
            "Epoch 12/30\n",
            "195/195 [==============================] - 135s 693ms/step - loss: 1.2448 - acc: 0.5638 - val_loss: 1.9355 - val_acc: 0.4672\n",
            "Epoch 13/30\n",
            "195/195 [==============================] - 144s 737ms/step - loss: 1.1967 - acc: 0.5885 - val_loss: 1.8413 - val_acc: 0.4867\n",
            "Epoch 14/30\n",
            "195/195 [==============================] - 147s 753ms/step - loss: 1.1731 - acc: 0.5935 - val_loss: 1.6759 - val_acc: 0.5011\n",
            "Epoch 15/30\n",
            "195/195 [==============================] - 139s 713ms/step - loss: 1.1607 - acc: 0.5984 - val_loss: 1.3467 - val_acc: 0.5594\n",
            "Epoch 16/30\n",
            "195/195 [==============================] - 136s 700ms/step - loss: 1.1625 - acc: 0.6034 - val_loss: 1.5692 - val_acc: 0.4849\n",
            "Epoch 17/30\n",
            "195/195 [==============================] - 146s 751ms/step - loss: 1.1153 - acc: 0.6161 - val_loss: 1.6659 - val_acc: 0.5181\n",
            "Epoch 18/30\n",
            "195/195 [==============================] - 146s 751ms/step - loss: 1.0875 - acc: 0.6264 - val_loss: 1.3364 - val_acc: 0.5484\n",
            "Epoch 19/30\n",
            "195/195 [==============================] - 142s 729ms/step - loss: 1.0902 - acc: 0.6292 - val_loss: 1.2328 - val_acc: 0.5751\n",
            "Epoch 20/30\n",
            "195/195 [==============================] - 140s 716ms/step - loss: 1.0771 - acc: 0.6349 - val_loss: 1.2233 - val_acc: 0.5907\n",
            "Epoch 21/30\n",
            "195/195 [==============================] - 155s 793ms/step - loss: 1.0206 - acc: 0.6502 - val_loss: 1.2226 - val_acc: 0.5957\n",
            "Epoch 22/30\n",
            "195/195 [==============================] - 146s 747ms/step - loss: 1.0210 - acc: 0.6519 - val_loss: 1.1342 - val_acc: 0.6153\n",
            "Epoch 23/30\n",
            "195/195 [==============================] - 142s 727ms/step - loss: 1.0172 - acc: 0.6558 - val_loss: 1.5861 - val_acc: 0.5437\n",
            "Epoch 24/30\n",
            "195/195 [==============================] - 127s 651ms/step - loss: 1.0103 - acc: 0.6600 - val_loss: 1.4693 - val_acc: 0.5541\n",
            "Epoch 25/30\n",
            "195/195 [==============================] - 147s 753ms/step - loss: 0.9685 - acc: 0.6729 - val_loss: 1.1944 - val_acc: 0.6162\n",
            "Epoch 26/30\n",
            "195/195 [==============================] - 144s 737ms/step - loss: 0.9906 - acc: 0.6660 - val_loss: 1.1101 - val_acc: 0.6393\n",
            "Epoch 27/30\n",
            "195/195 [==============================] - 135s 694ms/step - loss: 0.9728 - acc: 0.6738 - val_loss: 1.1703 - val_acc: 0.6147\n",
            "Epoch 28/30\n",
            "195/195 [==============================] - 120s 614ms/step - loss: 0.9626 - acc: 0.6749 - val_loss: 1.2559 - val_acc: 0.5961\n",
            "Epoch 29/30\n",
            "195/195 [==============================] - 116s 595ms/step - loss: 0.9193 - acc: 0.6904 - val_loss: 1.5828 - val_acc: 0.5190\n",
            "Epoch 30/30\n",
            "195/195 [==============================] - 125s 641ms/step - loss: 0.9235 - acc: 0.6876 - val_loss: 1.1290 - val_acc: 0.6394\n"
          ],
          "name": "stdout"
        },
        {
          "output_type": "execute_result",
          "data": {
            "text/plain": [
              "<tensorflow.python.keras.callbacks.History at 0x7ff9dae8ff60>"
            ]
          },
          "metadata": {
            "tags": []
          },
          "execution_count": 36
        }
      ]
    },
    {
      "cell_type": "code",
      "metadata": {
        "id": "POKVbT9ieaSI",
        "colab_type": "code",
        "colab": {}
      },
      "source": [
        "!cp -a \"/content/log/2019-08-31-03-19-46/.\" \"/content/drive/My Drive/resnet_tensorboard/non_res_net/\""
      ],
      "execution_count": 0,
      "outputs": []
    },
    {
      "cell_type": "code",
      "metadata": {
        "id": "eAdW2WNNDdyu",
        "colab_type": "code",
        "colab": {}
      },
      "source": [
        ""
      ],
      "execution_count": 0,
      "outputs": []
    }
  ]
}